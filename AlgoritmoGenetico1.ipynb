{
  "nbformat": 4,
  "nbformat_minor": 0,
  "metadata": {
    "colab": {
      "provenance": [],
      "authorship_tag": "ABX9TyPEt15laUjFLpbQvc2QiiGu",
      "include_colab_link": true
    },
    "kernelspec": {
      "name": "python3",
      "display_name": "Python 3"
    }
  },
  "cells": [
    {
      "cell_type": "markdown",
      "metadata": {
        "id": "view-in-github",
        "colab_type": "text"
      },
      "source": [
        "<a href=\"https://colab.research.google.com/github/AlflenGabriel/Otimizacao-algoritmo-genetico/blob/main/AlgoritmoGenetico1.ipynb\" target=\"_parent\"><img src=\"https://colab.research.google.com/assets/colab-badge.svg\" alt=\"Open In Colab\"/></a>"
      ]
    },
    {
      "cell_type": "code",
      "metadata": {
        "id": "2FvEpHoKvZwh",
        "colab": {
          "base_uri": "https://localhost:8080/"
        },
        "outputId": "df0bbbaf-0c4f-44ee-c27f-a9fce6f74dd2"
      },
      "source": [
        "import numpy as np\n",
        "codItem = np.arange(1,11)\n",
        "print(\"Códigos: \",codItem)\n",
        "peso = np.array([5,6,2,20,3,21,1,11,13,2])\n",
        "print(\"Pesos:\", peso)\n",
        "preco = np.array([20,10,470,600,225,650,590,270,430,350])\n",
        "print(\"Preços\", preco)\n",
        "print(\"CodItem    Peso    Preço\")\n",
        "for i in range(10):\n",
        "  print(\"{0}          {1}          {2}\\n\".format(codItem[i],peso[i],preco[i]))"
      ],
      "execution_count": null,
      "outputs": [
        {
          "output_type": "stream",
          "name": "stdout",
          "text": [
            "Códigos:  [ 1  2  3  4  5  6  7  8  9 10]\n",
            "Pesos: [ 5  6  2 20  3 21  1 11 13  2]\n",
            "Preços [ 20  10 470 600 225 650 590 270 430 350]\n",
            "CodItem    Peso    Preço\n",
            "1          5          20\n",
            "\n",
            "2          6          10\n",
            "\n",
            "3          2          470\n",
            "\n",
            "4          20          600\n",
            "\n",
            "5          3          225\n",
            "\n",
            "6          21          650\n",
            "\n",
            "7          1          590\n",
            "\n",
            "8          11          270\n",
            "\n",
            "9          13          430\n",
            "\n",
            "10          2          350\n",
            "\n"
          ]
        }
      ]
    },
    {
      "cell_type": "code",
      "metadata": {
        "colab": {
          "base_uri": "https://localhost:8080/"
        },
        "id": "hh6o938apl8w",
        "outputId": "61d7e8c7-25bf-4af2-e551-e4fa733e9bca"
      },
      "source": [
        "capacidadeMochila = 35\n",
        "tamanhoCadeiaGenetica = 10\n",
        "tamanhoPopulacao = 8\n",
        "print(\"Capacidade da mochila (kg): \", capacidadeMochila)\n",
        "print(\"Tamanho do cromossomo (qtd. genes): \", tamanhoCadeiaGenetica)\n",
        "print(\"Tamanho população: \", tamanhoPopulacao)"
      ],
      "execution_count": null,
      "outputs": [
        {
          "output_type": "stream",
          "text": [
            "Capacidade da mochila (kg):  35\n",
            "Tamanho do cromossomo (qtd. genes):  10\n",
            "Tamanho população:  8\n"
          ],
          "name": "stdout"
        }
      ]
    },
    {
      "cell_type": "code",
      "metadata": {
        "colab": {
          "base_uri": "https://localhost:8080/"
        },
        "id": "Ck2jgJdQt51e",
        "outputId": "b364fd8d-b3ba-473b-c01c-5595a97b93aa"
      },
      "source": [
        "populacaoInicial = np.random.randint(0,2, size=(tamanhoPopulacao, tamanhoCadeiaGenetica))\n",
        "print(\"A populaçao inicial gerada aleatóriamente foi: \")\n",
        "print(populacaoInicial)"
      ],
      "execution_count": null,
      "outputs": [
        {
          "output_type": "stream",
          "text": [
            "A populaçao inicial gerada aleatóriamente foi: \n",
            "[[1 0 0 1 0 1 0 1 1 0]\n",
            " [1 0 1 0 1 0 0 0 1 0]\n",
            " [1 0 1 1 1 0 0 0 0 0]\n",
            " [0 1 0 0 1 1 1 1 0 0]\n",
            " [1 0 1 0 0 1 1 0 1 1]\n",
            " [1 1 0 0 1 1 1 0 0 1]\n",
            " [0 0 1 1 0 0 0 1 1 0]\n",
            " [0 0 0 0 0 0 0 0 1 1]]\n"
          ],
          "name": "stdout"
        }
      ]
    },
    {
      "cell_type": "code",
      "metadata": {
        "id": "GGrmeZfRv2oc"
      },
      "source": [
        "def calculaFitness(populacao):\n",
        "  fitness = np.zeros(tamanhoPopulacao)\n",
        "  for i in range(tamanhoPopulacao):\n",
        "    somaCusto = np.sum(populacao[i] * preco)\n",
        "    #print(\"Populacao\", populacao[i])\n",
        "    #print(\"Preco\", preco)\n",
        "    somaPeso = np.sum(populacao[i] * peso)\n",
        "    #print(\"Peso\", peso)\n",
        "    #print(\"Peso total\", somaPeso)\n",
        "    #print(\"********************\")\n",
        "    if somaPeso > capacidadeMochila:\n",
        "      fitness[i] = 0\n",
        "    else:\n",
        "      fitness[i] = somaCusto\n",
        "  return fitness"
      ],
      "execution_count": null,
      "outputs": []
    },
    {
      "cell_type": "code",
      "metadata": {
        "colab": {
          "base_uri": "https://localhost:8080/"
        },
        "id": "N30vdXayxF8V",
        "outputId": "18ee755a-7d61-4862-fecf-3a9475d9ff4e"
      },
      "source": [
        "fitnessCalculado = calculaFitness(populacaoInicial)\n",
        "print(\"Fitness de cada cromossomo da população inicial:\\n\", fitnessCalculado)"
      ],
      "execution_count": null,
      "outputs": [
        {
          "output_type": "stream",
          "text": [
            "Fitness de cada cromossomo da população inicial:\n",
            " [   0. 1145. 1315.    0.    0.    0.    0.  780.]\n"
          ],
          "name": "stdout"
        }
      ]
    },
    {
      "cell_type": "code",
      "metadata": {
        "id": "GEJl8vRrzOgf"
      },
      "source": [
        "def selecionarPais(populacao,fitness):\n",
        "  fitnessPais = fitness\n",
        "  pais = np.zeros((2,tamanhoCadeiaGenetica))\n",
        "  print(\"Criação de dois cromossomos vazios\\n:\",pais)\n",
        "  for i in range(2):\n",
        "    maxFitnessCode = np.where(fitnessPais == np.max(fitnessPais))\n",
        "    pais[i,:] = populacao[maxFitnessCode[0][0],:]\n",
        "    fitnessPais[maxFitnessCode[0][0]] = -1\n",
        "  return pais"
      ],
      "execution_count": null,
      "outputs": []
    },
    {
      "cell_type": "code",
      "metadata": {
        "colab": {
          "base_uri": "https://localhost:8080/"
        },
        "id": "EyoR35Hc03EQ",
        "outputId": "884c1600-8929-4207-c21e-e95ed9f95512"
      },
      "source": [
        "pais = selecionarPais(populacaoInicial,fitnessCalculado)\n",
        "print(\"*********************************\")\n",
        "print(\"Cromossomos selecionados para reprodução:\\n \",pais)"
      ],
      "execution_count": null,
      "outputs": [
        {
          "output_type": "stream",
          "text": [
            "Criação de dois cromossomos vazios\n",
            ": [[0. 0. 0. 0. 0. 0. 0. 0. 0. 0.]\n",
            " [0. 0. 0. 0. 0. 0. 0. 0. 0. 0.]]\n",
            "*********************************\n",
            "Cromossomos selecionados para reprodução:\n",
            "  [[1. 0. 1. 1. 1. 0. 0. 0. 0. 0.]\n",
            " [1. 0. 1. 0. 1. 0. 0. 0. 1. 0.]]\n"
          ],
          "name": "stdout"
        }
      ]
    },
    {
      "cell_type": "code",
      "metadata": {
        "id": "FhTJlQg53mty"
      },
      "source": [
        "def crossover(pais):\n",
        "  filhos = np.zeros((2,tamanhoCadeiaGenetica))\n",
        "  pontoCrossover = 3\n",
        "  filhos[0,0:pontoCrossover] = pais[1,0:pontoCrossover]\n",
        "  filhos[0,pontoCrossover:] = pais[0,pontoCrossover:]\n",
        "  filhos[1,0:pontoCrossover] = pais[0,0:pontoCrossover]\n",
        "  filhos[1,pontoCrossover:] = pais[1,pontoCrossover:]\n",
        "  return filhos"
      ],
      "execution_count": null,
      "outputs": []
    },
    {
      "cell_type": "code",
      "metadata": {
        "colab": {
          "base_uri": "https://localhost:8080/"
        },
        "id": "k6yf4XGk7u3c",
        "outputId": "cd8ad148-f376-4fa9-9901-2a4fcf1c2b1c"
      },
      "source": [
        "print(pais)\n",
        "filhos= crossover(pais)\n",
        "print(\"*********************************\")\n",
        "print(filhos)"
      ],
      "execution_count": null,
      "outputs": [
        {
          "output_type": "stream",
          "text": [
            "[[1. 0. 1. 1. 1. 0. 0. 0. 0. 0.]\n",
            " [1. 0. 1. 0. 1. 0. 0. 0. 1. 0.]]\n",
            "*********************************\n",
            "[[1. 0. 1. 1. 1. 0. 0. 0. 0. 0.]\n",
            " [1. 0. 1. 0. 1. 0. 0. 0. 1. 0.]]\n"
          ],
          "name": "stdout"
        }
      ]
    },
    {
      "cell_type": "code",
      "metadata": {
        "id": "tsJ-qdM-arNK"
      },
      "source": [
        "import random as rd\n",
        "def mutacao(filhos):\n",
        "  txMutacao = 0.2 # taxa definida para mutação\n",
        "  posicaoMutacao = 5 # posição na qual ocorrerá o bit-flip (mudança do bit)\n",
        "  mutantesCandidatos = filhos\n",
        "  for i in range(2):\n",
        "    valRandomico = rd.random() # número sorteado pela função random() é entre 0 e 1\n",
        "    print(\"Número randomico gerado pelo Python:\", valRandomico)\n",
        "    if valRandomico > txMutacao: # se o número for maior que a taxa, não haverá mutação\n",
        "      continue\n",
        "    else:\n",
        "      print(\"Sorteado para mutação\")\n",
        "    #print(\"Cromossomo selecionado para mutação:\", mutantesCandidatos[i,:])\n",
        "    if mutantesCandidatos[i,posicaoMutacao] == 0:\n",
        "      mutantesCandidatos[i,posicaoMutacao] = 1\n",
        "    else:\n",
        "      mutantesCandidatos[i,posicaoMutacao] = 0\n",
        "  return mutantesCandidatos"
      ],
      "execution_count": null,
      "outputs": []
    },
    {
      "cell_type": "code",
      "metadata": {
        "colab": {
          "base_uri": "https://localhost:8080/"
        },
        "id": "6PuufGdZayeQ",
        "outputId": "9d547b36-5fa1-4df0-ee8d-ecc7297e7f55"
      },
      "source": [
        "mutantes = mutacao(filhos)\n",
        "print(mutantes)"
      ],
      "execution_count": null,
      "outputs": [
        {
          "output_type": "stream",
          "text": [
            "Número randomico gerado pelo Python: 0.6020620900880405\n",
            "Número randomico gerado pelo Python: 0.17768163327143371\n",
            "Sorteado para mutação\n",
            "[[1. 0. 1. 1. 1. 0. 0. 0. 0. 0.]\n",
            " [1. 0. 1. 0. 1. 1. 0. 0. 1. 0.]]\n"
          ],
          "name": "stdout"
        }
      ]
    },
    {
      "cell_type": "code",
      "metadata": {
        "id": "seKCaxBBa8Xc"
      },
      "source": [
        "def calculaFitnessIndividual(cromossomo):\n",
        "  somaCusto = np.sum(cromossomo * preco)\n",
        "  #print(\"Populacao\", populacao[i])\n",
        "  #print(\"Preco\", preco)\n",
        "  somaPeso = np.sum(cromossomo * peso)\n",
        "  #print(\"Peso\", peso)\n",
        "  #print(\"Peso total\", somaPeso)\n",
        "  #print(\"********************\")\n",
        "  if somaPeso > capacidadeMochila:\n",
        "    fitness = 0\n",
        "  else:\n",
        "    fitness = somaCusto\n",
        "  return fitness"
      ],
      "execution_count": null,
      "outputs": []
    },
    {
      "cell_type": "code",
      "metadata": {
        "colab": {
          "base_uri": "https://localhost:8080/"
        },
        "id": "J_eF_-Fwa-gB",
        "outputId": "84e7fe39-3b44-4891-d670-a307e7de63ab"
      },
      "source": [
        "print(calculaFitnessIndividual(pais[0]))"
      ],
      "execution_count": null,
      "outputs": [
        {
          "output_type": "stream",
          "text": [
            "1315.0\n"
          ],
          "name": "stdout"
        }
      ]
    },
    {
      "cell_type": "code",
      "metadata": {
        "colab": {
          "base_uri": "https://localhost:8080/"
        },
        "id": "oXY-wy26bDA3",
        "outputId": "a400ad9f-1f97-46ef-ed1c-7a4eb4c2a316"
      },
      "source": [
        "numGeracoes = 50 # número de reproduções que ocorrerá\n",
        "populacao = populacaoInicial # popoulação inicial\n",
        "for i in range(numGeracoes):\n",
        "  fitnessPopulacaoAtual = calculaFitness(populacao)\n",
        "  #selecionar pais para reprodução\n",
        "  pais = selecionarPais(populacao,fitnessPopulacaoAtual)\n",
        "  #Cruzamento dos pais para geração dos filhos\n",
        "  filhos = crossover(pais)\n",
        "  #Avaliar se os filhos sofrerão mutação\n",
        "  filhos = mutacao(filhos)\n",
        "  # Vamos armazenar a posição dos cromossomos com menor aptidão\n",
        "  # para aplicarmos a estratégia elitisca, onde os cromossomos com menor aptidão serão\n",
        "  # excluídos da população para que os filhos gerados tomem os seus lugares\n",
        "  # identificacao da posição do cromossomo com menor aptidão (fitness)\n",
        "  posicaoCromossomoMenorAptidao = np.where(fitnessPopulacaoAtual == np.amin(fitnessPopulacaoAtual))\n",
        "  #print(\"Primeira posição de menor aptidão: \", posicaoCromossomoMenorAptidao[0][0])\n",
        "  if (calculaFitnessIndividual(populacao[posicaoCromossomoMenorAptidao[0][0],:])<calculaFitnessIndividual(filhos[0,:])):\n",
        "    populacao[posicaoCromossomoMenorAptidao[0][0],:]=filhos[0,:]\n",
        "  #print(\"Populacao primeira substituicao: \", calculaFitness(populacao))\n",
        "  # identificacao da posição do cromossomo com a segunda menor aptidão (fitness)\n",
        "  fitnessPopulacaoAtual = calculaFitness(populacao)\n",
        "  posicaoCromossomoSegundaMenorAptidao = np.where(fitnessPopulacaoAtual == np.amin(fitnessPopulacaoAtual))\n",
        "  if (calculaFitnessIndividual(populacao[posicaoCromossomoSegundaMenorAptidao[0][0],:])<calculaFitnessIndividual(filhos[1,:])):\n",
        "    populacao[posicaoCromossomoSegundaMenorAptidao[0][0],:]=filhos[1,:]\n",
        "  #print(\"Primeira posição de menor aptidão: \", posicaoCromossomoSegundaMenorAptidao[0][0])\n",
        "  #print(\"Populacao segunda substituicao: \", calculaFitness(populacao))\n",
        "  fitnessPopulacaoAtual = calculaFitness(populacao) # calcula o fitness de cada cromossomo da população atual\n",
        "  print(\"Populacao: \", calculaFitness(populacao))\n",
        "print(populacao[0])\n",
        " # historicoFitness.append(fitnessPopulacaoAtual) # inclui o fitnesse no histórico\n",
        "\n",
        "\n"
      ],
      "execution_count": null,
      "outputs": [
        {
          "output_type": "stream",
          "text": [
            "Criação de dois cromossomos vazios\n",
            ": [[0. 0. 0. 0. 0. 0. 0. 0. 0. 0.]\n",
            " [0. 0. 0. 0. 0. 0. 0. 0. 0. 0.]]\n",
            "Número randomico gerado pelo Python: 0.5344505155447294\n",
            "Número randomico gerado pelo Python: 0.23541144696453342\n",
            "Populacao:  [1145. 1315. 1315.    0.    0.    0.    0.  780.]\n",
            "Criação de dois cromossomos vazios\n",
            ": [[0. 0. 0. 0. 0. 0. 0. 0. 0. 0.]\n",
            " [0. 0. 0. 0. 0. 0. 0. 0. 0. 0.]]\n",
            "Número randomico gerado pelo Python: 0.8097478555757789\n",
            "Número randomico gerado pelo Python: 0.5866832752620432\n",
            "Populacao:  [1145. 1315. 1315. 1315.    0.    0.    0.  780.]\n",
            "Criação de dois cromossomos vazios\n",
            ": [[0. 0. 0. 0. 0. 0. 0. 0. 0. 0.]\n",
            " [0. 0. 0. 0. 0. 0. 0. 0. 0. 0.]]\n",
            "Número randomico gerado pelo Python: 0.7863656414905621\n",
            "Número randomico gerado pelo Python: 0.040838134791457925\n",
            "Sorteado para mutação\n",
            "Populacao:  [1145. 1315. 1315. 1315.    0.    0.    0.  780.]\n",
            "Criação de dois cromossomos vazios\n",
            ": [[0. 0. 0. 0. 0. 0. 0. 0. 0. 0.]\n",
            " [0. 0. 0. 0. 0. 0. 0. 0. 0. 0.]]\n",
            "Número randomico gerado pelo Python: 0.7643436879163351\n",
            "Número randomico gerado pelo Python: 0.3836689893172347\n",
            "Populacao:  [1145. 1315. 1315. 1315. 1315.    0.    0.  780.]\n",
            "Criação de dois cromossomos vazios\n",
            ": [[0. 0. 0. 0. 0. 0. 0. 0. 0. 0.]\n",
            " [0. 0. 0. 0. 0. 0. 0. 0. 0. 0.]]\n",
            "Número randomico gerado pelo Python: 0.6614498528818974\n",
            "Número randomico gerado pelo Python: 0.3774227753533488\n",
            "Populacao:  [1145. 1315. 1315. 1315. 1315. 1315.    0.  780.]\n",
            "Criação de dois cromossomos vazios\n",
            ": [[0. 0. 0. 0. 0. 0. 0. 0. 0. 0.]\n",
            " [0. 0. 0. 0. 0. 0. 0. 0. 0. 0.]]\n",
            "Número randomico gerado pelo Python: 0.07606799745204096\n",
            "Sorteado para mutação\n",
            "Número randomico gerado pelo Python: 0.5778194360749059\n",
            "Populacao:  [1145. 1315. 1315. 1315. 1315. 1315. 1315.  780.]\n",
            "Criação de dois cromossomos vazios\n",
            ": [[0. 0. 0. 0. 0. 0. 0. 0. 0. 0.]\n",
            " [0. 0. 0. 0. 0. 0. 0. 0. 0. 0.]]\n",
            "Número randomico gerado pelo Python: 0.37792493194568133\n",
            "Número randomico gerado pelo Python: 0.8965619810767822\n",
            "Populacao:  [1145. 1315. 1315. 1315. 1315. 1315. 1315. 1315.]\n",
            "Criação de dois cromossomos vazios\n",
            ": [[0. 0. 0. 0. 0. 0. 0. 0. 0. 0.]\n",
            " [0. 0. 0. 0. 0. 0. 0. 0. 0. 0.]]\n",
            "Número randomico gerado pelo Python: 0.923131700730473\n",
            "Número randomico gerado pelo Python: 0.43828191047859355\n",
            "Populacao:  [1315. 1315. 1315. 1315. 1315. 1315. 1315. 1315.]\n",
            "Criação de dois cromossomos vazios\n",
            ": [[0. 0. 0. 0. 0. 0. 0. 0. 0. 0.]\n",
            " [0. 0. 0. 0. 0. 0. 0. 0. 0. 0.]]\n",
            "Número randomico gerado pelo Python: 0.09308319066836668\n",
            "Sorteado para mutação\n",
            "Número randomico gerado pelo Python: 0.9565261212755983\n",
            "Populacao:  [1315. 1315. 1315. 1315. 1315. 1315. 1315. 1315.]\n",
            "Criação de dois cromossomos vazios\n",
            ": [[0. 0. 0. 0. 0. 0. 0. 0. 0. 0.]\n",
            " [0. 0. 0. 0. 0. 0. 0. 0. 0. 0.]]\n",
            "Número randomico gerado pelo Python: 0.324340282326258\n",
            "Número randomico gerado pelo Python: 0.08645267473258855\n",
            "Sorteado para mutação\n",
            "Populacao:  [1315. 1315. 1315. 1315. 1315. 1315. 1315. 1315.]\n",
            "Criação de dois cromossomos vazios\n",
            ": [[0. 0. 0. 0. 0. 0. 0. 0. 0. 0.]\n",
            " [0. 0. 0. 0. 0. 0. 0. 0. 0. 0.]]\n",
            "Número randomico gerado pelo Python: 0.5560282050241402\n",
            "Número randomico gerado pelo Python: 0.4453459433510456\n",
            "Populacao:  [1315. 1315. 1315. 1315. 1315. 1315. 1315. 1315.]\n",
            "Criação de dois cromossomos vazios\n",
            ": [[0. 0. 0. 0. 0. 0. 0. 0. 0. 0.]\n",
            " [0. 0. 0. 0. 0. 0. 0. 0. 0. 0.]]\n",
            "Número randomico gerado pelo Python: 0.2988939631542926\n",
            "Número randomico gerado pelo Python: 0.6301010800186366\n",
            "Populacao:  [1315. 1315. 1315. 1315. 1315. 1315. 1315. 1315.]\n",
            "Criação de dois cromossomos vazios\n",
            ": [[0. 0. 0. 0. 0. 0. 0. 0. 0. 0.]\n",
            " [0. 0. 0. 0. 0. 0. 0. 0. 0. 0.]]\n",
            "Número randomico gerado pelo Python: 0.04496980328083933\n",
            "Sorteado para mutação\n",
            "Número randomico gerado pelo Python: 0.20982874029366094\n",
            "Populacao:  [1315. 1315. 1315. 1315. 1315. 1315. 1315. 1315.]\n",
            "Criação de dois cromossomos vazios\n",
            ": [[0. 0. 0. 0. 0. 0. 0. 0. 0. 0.]\n",
            " [0. 0. 0. 0. 0. 0. 0. 0. 0. 0.]]\n",
            "Número randomico gerado pelo Python: 0.5303682477008405\n",
            "Número randomico gerado pelo Python: 0.828490237754279\n",
            "Populacao:  [1315. 1315. 1315. 1315. 1315. 1315. 1315. 1315.]\n",
            "Criação de dois cromossomos vazios\n",
            ": [[0. 0. 0. 0. 0. 0. 0. 0. 0. 0.]\n",
            " [0. 0. 0. 0. 0. 0. 0. 0. 0. 0.]]\n",
            "Número randomico gerado pelo Python: 0.32927157991790434\n",
            "Número randomico gerado pelo Python: 0.2693588741344829\n",
            "Populacao:  [1315. 1315. 1315. 1315. 1315. 1315. 1315. 1315.]\n",
            "Criação de dois cromossomos vazios\n",
            ": [[0. 0. 0. 0. 0. 0. 0. 0. 0. 0.]\n",
            " [0. 0. 0. 0. 0. 0. 0. 0. 0. 0.]]\n",
            "Número randomico gerado pelo Python: 0.7951403287572404\n",
            "Número randomico gerado pelo Python: 0.37399850606808305\n",
            "Populacao:  [1315. 1315. 1315. 1315. 1315. 1315. 1315. 1315.]\n",
            "Criação de dois cromossomos vazios\n",
            ": [[0. 0. 0. 0. 0. 0. 0. 0. 0. 0.]\n",
            " [0. 0. 0. 0. 0. 0. 0. 0. 0. 0.]]\n",
            "Número randomico gerado pelo Python: 0.4536081253585903\n",
            "Número randomico gerado pelo Python: 0.8676214713010962\n",
            "Populacao:  [1315. 1315. 1315. 1315. 1315. 1315. 1315. 1315.]\n",
            "Criação de dois cromossomos vazios\n",
            ": [[0. 0. 0. 0. 0. 0. 0. 0. 0. 0.]\n",
            " [0. 0. 0. 0. 0. 0. 0. 0. 0. 0.]]\n",
            "Número randomico gerado pelo Python: 0.011662618589231566\n",
            "Sorteado para mutação\n",
            "Número randomico gerado pelo Python: 0.535709437993363\n",
            "Populacao:  [1315. 1315. 1315. 1315. 1315. 1315. 1315. 1315.]\n",
            "Criação de dois cromossomos vazios\n",
            ": [[0. 0. 0. 0. 0. 0. 0. 0. 0. 0.]\n",
            " [0. 0. 0. 0. 0. 0. 0. 0. 0. 0.]]\n",
            "Número randomico gerado pelo Python: 0.3973769636363451\n",
            "Número randomico gerado pelo Python: 0.8887331384023771\n",
            "Populacao:  [1315. 1315. 1315. 1315. 1315. 1315. 1315. 1315.]\n",
            "Criação de dois cromossomos vazios\n",
            ": [[0. 0. 0. 0. 0. 0. 0. 0. 0. 0.]\n",
            " [0. 0. 0. 0. 0. 0. 0. 0. 0. 0.]]\n",
            "Número randomico gerado pelo Python: 0.44446688242447585\n",
            "Número randomico gerado pelo Python: 0.7995357510172532\n",
            "Populacao:  [1315. 1315. 1315. 1315. 1315. 1315. 1315. 1315.]\n",
            "Criação de dois cromossomos vazios\n",
            ": [[0. 0. 0. 0. 0. 0. 0. 0. 0. 0.]\n",
            " [0. 0. 0. 0. 0. 0. 0. 0. 0. 0.]]\n",
            "Número randomico gerado pelo Python: 0.7955739254699995\n",
            "Número randomico gerado pelo Python: 0.19833502445439521\n",
            "Sorteado para mutação\n",
            "Populacao:  [1315. 1315. 1315. 1315. 1315. 1315. 1315. 1315.]\n",
            "Criação de dois cromossomos vazios\n",
            ": [[0. 0. 0. 0. 0. 0. 0. 0. 0. 0.]\n",
            " [0. 0. 0. 0. 0. 0. 0. 0. 0. 0.]]\n",
            "Número randomico gerado pelo Python: 0.025477359352433004\n",
            "Sorteado para mutação\n",
            "Número randomico gerado pelo Python: 0.7197759429055688\n",
            "Populacao:  [1315. 1315. 1315. 1315. 1315. 1315. 1315. 1315.]\n",
            "Criação de dois cromossomos vazios\n",
            ": [[0. 0. 0. 0. 0. 0. 0. 0. 0. 0.]\n",
            " [0. 0. 0. 0. 0. 0. 0. 0. 0. 0.]]\n",
            "Número randomico gerado pelo Python: 0.10050797605652251\n",
            "Sorteado para mutação\n",
            "Número randomico gerado pelo Python: 0.6749418027985724\n",
            "Populacao:  [1315. 1315. 1315. 1315. 1315. 1315. 1315. 1315.]\n",
            "Criação de dois cromossomos vazios\n",
            ": [[0. 0. 0. 0. 0. 0. 0. 0. 0. 0.]\n",
            " [0. 0. 0. 0. 0. 0. 0. 0. 0. 0.]]\n",
            "Número randomico gerado pelo Python: 0.35371180585853024\n",
            "Número randomico gerado pelo Python: 0.21809146698310922\n",
            "Populacao:  [1315. 1315. 1315. 1315. 1315. 1315. 1315. 1315.]\n",
            "Criação de dois cromossomos vazios\n",
            ": [[0. 0. 0. 0. 0. 0. 0. 0. 0. 0.]\n",
            " [0. 0. 0. 0. 0. 0. 0. 0. 0. 0.]]\n",
            "Número randomico gerado pelo Python: 0.7851510846189758\n",
            "Número randomico gerado pelo Python: 0.728021513428313\n",
            "Populacao:  [1315. 1315. 1315. 1315. 1315. 1315. 1315. 1315.]\n",
            "Criação de dois cromossomos vazios\n",
            ": [[0. 0. 0. 0. 0. 0. 0. 0. 0. 0.]\n",
            " [0. 0. 0. 0. 0. 0. 0. 0. 0. 0.]]\n",
            "Número randomico gerado pelo Python: 0.48546888959981105\n",
            "Número randomico gerado pelo Python: 0.8314812223611971\n",
            "Populacao:  [1315. 1315. 1315. 1315. 1315. 1315. 1315. 1315.]\n",
            "Criação de dois cromossomos vazios\n",
            ": [[0. 0. 0. 0. 0. 0. 0. 0. 0. 0.]\n",
            " [0. 0. 0. 0. 0. 0. 0. 0. 0. 0.]]\n",
            "Número randomico gerado pelo Python: 0.5662019392236138\n",
            "Número randomico gerado pelo Python: 0.27553023095123463\n",
            "Populacao:  [1315. 1315. 1315. 1315. 1315. 1315. 1315. 1315.]\n",
            "Criação de dois cromossomos vazios\n",
            ": [[0. 0. 0. 0. 0. 0. 0. 0. 0. 0.]\n",
            " [0. 0. 0. 0. 0. 0. 0. 0. 0. 0.]]\n",
            "Número randomico gerado pelo Python: 0.6667671948110914\n",
            "Número randomico gerado pelo Python: 0.9173826980671751\n",
            "Populacao:  [1315. 1315. 1315. 1315. 1315. 1315. 1315. 1315.]\n",
            "Criação de dois cromossomos vazios\n",
            ": [[0. 0. 0. 0. 0. 0. 0. 0. 0. 0.]\n",
            " [0. 0. 0. 0. 0. 0. 0. 0. 0. 0.]]\n",
            "Número randomico gerado pelo Python: 0.7271683028882654\n",
            "Número randomico gerado pelo Python: 0.3534525857555455\n",
            "Populacao:  [1315. 1315. 1315. 1315. 1315. 1315. 1315. 1315.]\n",
            "Criação de dois cromossomos vazios\n",
            ": [[0. 0. 0. 0. 0. 0. 0. 0. 0. 0.]\n",
            " [0. 0. 0. 0. 0. 0. 0. 0. 0. 0.]]\n",
            "Número randomico gerado pelo Python: 0.1446037596932097\n",
            "Sorteado para mutação\n",
            "Número randomico gerado pelo Python: 0.9712430850896053\n",
            "Populacao:  [1315. 1315. 1315. 1315. 1315. 1315. 1315. 1315.]\n",
            "Criação de dois cromossomos vazios\n",
            ": [[0. 0. 0. 0. 0. 0. 0. 0. 0. 0.]\n",
            " [0. 0. 0. 0. 0. 0. 0. 0. 0. 0.]]\n",
            "Número randomico gerado pelo Python: 0.6507141525235018\n",
            "Número randomico gerado pelo Python: 0.312043742230945\n",
            "Populacao:  [1315. 1315. 1315. 1315. 1315. 1315. 1315. 1315.]\n",
            "Criação de dois cromossomos vazios\n",
            ": [[0. 0. 0. 0. 0. 0. 0. 0. 0. 0.]\n",
            " [0. 0. 0. 0. 0. 0. 0. 0. 0. 0.]]\n",
            "Número randomico gerado pelo Python: 0.7536353419631251\n",
            "Número randomico gerado pelo Python: 0.736027774271414\n",
            "Populacao:  [1315. 1315. 1315. 1315. 1315. 1315. 1315. 1315.]\n",
            "Criação de dois cromossomos vazios\n",
            ": [[0. 0. 0. 0. 0. 0. 0. 0. 0. 0.]\n",
            " [0. 0. 0. 0. 0. 0. 0. 0. 0. 0.]]\n",
            "Número randomico gerado pelo Python: 0.16814913695932532\n",
            "Sorteado para mutação\n",
            "Número randomico gerado pelo Python: 0.17415130740638607\n",
            "Sorteado para mutação\n",
            "Populacao:  [1315. 1315. 1315. 1315. 1315. 1315. 1315. 1315.]\n",
            "Criação de dois cromossomos vazios\n",
            ": [[0. 0. 0. 0. 0. 0. 0. 0. 0. 0.]\n",
            " [0. 0. 0. 0. 0. 0. 0. 0. 0. 0.]]\n",
            "Número randomico gerado pelo Python: 0.3182344739502798\n",
            "Número randomico gerado pelo Python: 0.7396357718345183\n",
            "Populacao:  [1315. 1315. 1315. 1315. 1315. 1315. 1315. 1315.]\n",
            "Criação de dois cromossomos vazios\n",
            ": [[0. 0. 0. 0. 0. 0. 0. 0. 0. 0.]\n",
            " [0. 0. 0. 0. 0. 0. 0. 0. 0. 0.]]\n",
            "Número randomico gerado pelo Python: 0.7564694483914175\n",
            "Número randomico gerado pelo Python: 0.3905942240103666\n",
            "Populacao:  [1315. 1315. 1315. 1315. 1315. 1315. 1315. 1315.]\n",
            "Criação de dois cromossomos vazios\n",
            ": [[0. 0. 0. 0. 0. 0. 0. 0. 0. 0.]\n",
            " [0. 0. 0. 0. 0. 0. 0. 0. 0. 0.]]\n",
            "Número randomico gerado pelo Python: 0.880413758873523\n",
            "Número randomico gerado pelo Python: 0.5137161529028464\n",
            "Populacao:  [1315. 1315. 1315. 1315. 1315. 1315. 1315. 1315.]\n",
            "Criação de dois cromossomos vazios\n",
            ": [[0. 0. 0. 0. 0. 0. 0. 0. 0. 0.]\n",
            " [0. 0. 0. 0. 0. 0. 0. 0. 0. 0.]]\n",
            "Número randomico gerado pelo Python: 0.8293603387050515\n",
            "Número randomico gerado pelo Python: 0.7733168889084068\n",
            "Populacao:  [1315. 1315. 1315. 1315. 1315. 1315. 1315. 1315.]\n",
            "Criação de dois cromossomos vazios\n",
            ": [[0. 0. 0. 0. 0. 0. 0. 0. 0. 0.]\n",
            " [0. 0. 0. 0. 0. 0. 0. 0. 0. 0.]]\n",
            "Número randomico gerado pelo Python: 0.03297292622207615\n",
            "Sorteado para mutação\n",
            "Número randomico gerado pelo Python: 0.943737132004374\n",
            "Populacao:  [1315. 1315. 1315. 1315. 1315. 1315. 1315. 1315.]\n",
            "Criação de dois cromossomos vazios\n",
            ": [[0. 0. 0. 0. 0. 0. 0. 0. 0. 0.]\n",
            " [0. 0. 0. 0. 0. 0. 0. 0. 0. 0.]]\n",
            "Número randomico gerado pelo Python: 0.3576361813210336\n",
            "Número randomico gerado pelo Python: 0.44590953579246984\n",
            "Populacao:  [1315. 1315. 1315. 1315. 1315. 1315. 1315. 1315.]\n",
            "Criação de dois cromossomos vazios\n",
            ": [[0. 0. 0. 0. 0. 0. 0. 0. 0. 0.]\n",
            " [0. 0. 0. 0. 0. 0. 0. 0. 0. 0.]]\n",
            "Número randomico gerado pelo Python: 0.0816198218500549\n",
            "Sorteado para mutação\n",
            "Número randomico gerado pelo Python: 0.02489813120422102\n",
            "Sorteado para mutação\n",
            "Populacao:  [1315. 1315. 1315. 1315. 1315. 1315. 1315. 1315.]\n",
            "Criação de dois cromossomos vazios\n",
            ": [[0. 0. 0. 0. 0. 0. 0. 0. 0. 0.]\n",
            " [0. 0. 0. 0. 0. 0. 0. 0. 0. 0.]]\n",
            "Número randomico gerado pelo Python: 0.46132748862835793\n",
            "Número randomico gerado pelo Python: 0.35148673560335464\n",
            "Populacao:  [1315. 1315. 1315. 1315. 1315. 1315. 1315. 1315.]\n",
            "Criação de dois cromossomos vazios\n",
            ": [[0. 0. 0. 0. 0. 0. 0. 0. 0. 0.]\n",
            " [0. 0. 0. 0. 0. 0. 0. 0. 0. 0.]]\n",
            "Número randomico gerado pelo Python: 0.7674875298888614\n",
            "Número randomico gerado pelo Python: 0.05458167840382533\n",
            "Sorteado para mutação\n",
            "Populacao:  [1315. 1315. 1315. 1315. 1315. 1315. 1315. 1315.]\n",
            "Criação de dois cromossomos vazios\n",
            ": [[0. 0. 0. 0. 0. 0. 0. 0. 0. 0.]\n",
            " [0. 0. 0. 0. 0. 0. 0. 0. 0. 0.]]\n",
            "Número randomico gerado pelo Python: 0.039320615968152506\n",
            "Sorteado para mutação\n",
            "Número randomico gerado pelo Python: 0.38529643648547185\n",
            "Populacao:  [1315. 1315. 1315. 1315. 1315. 1315. 1315. 1315.]\n",
            "Criação de dois cromossomos vazios\n",
            ": [[0. 0. 0. 0. 0. 0. 0. 0. 0. 0.]\n",
            " [0. 0. 0. 0. 0. 0. 0. 0. 0. 0.]]\n",
            "Número randomico gerado pelo Python: 0.7125038173462217\n",
            "Número randomico gerado pelo Python: 0.694687986011208\n",
            "Populacao:  [1315. 1315. 1315. 1315. 1315. 1315. 1315. 1315.]\n",
            "Criação de dois cromossomos vazios\n",
            ": [[0. 0. 0. 0. 0. 0. 0. 0. 0. 0.]\n",
            " [0. 0. 0. 0. 0. 0. 0. 0. 0. 0.]]\n",
            "Número randomico gerado pelo Python: 0.6908467143130943\n",
            "Número randomico gerado pelo Python: 0.6660727356362379\n",
            "Populacao:  [1315. 1315. 1315. 1315. 1315. 1315. 1315. 1315.]\n",
            "Criação de dois cromossomos vazios\n",
            ": [[0. 0. 0. 0. 0. 0. 0. 0. 0. 0.]\n",
            " [0. 0. 0. 0. 0. 0. 0. 0. 0. 0.]]\n",
            "Número randomico gerado pelo Python: 0.5369999182683471\n",
            "Número randomico gerado pelo Python: 0.1533252912528802\n",
            "Sorteado para mutação\n",
            "Populacao:  [1315. 1315. 1315. 1315. 1315. 1315. 1315. 1315.]\n",
            "Criação de dois cromossomos vazios\n",
            ": [[0. 0. 0. 0. 0. 0. 0. 0. 0. 0.]\n",
            " [0. 0. 0. 0. 0. 0. 0. 0. 0. 0.]]\n",
            "Número randomico gerado pelo Python: 0.8308668220175455\n",
            "Número randomico gerado pelo Python: 0.8399967470028598\n",
            "Populacao:  [1315. 1315. 1315. 1315. 1315. 1315. 1315. 1315.]\n",
            "Criação de dois cromossomos vazios\n",
            ": [[0. 0. 0. 0. 0. 0. 0. 0. 0. 0.]\n",
            " [0. 0. 0. 0. 0. 0. 0. 0. 0. 0.]]\n",
            "Número randomico gerado pelo Python: 0.7879055934175749\n",
            "Número randomico gerado pelo Python: 0.11125052914316991\n",
            "Sorteado para mutação\n",
            "Populacao:  [1315. 1315. 1315. 1315. 1315. 1315. 1315. 1315.]\n",
            "Criação de dois cromossomos vazios\n",
            ": [[0. 0. 0. 0. 0. 0. 0. 0. 0. 0.]\n",
            " [0. 0. 0. 0. 0. 0. 0. 0. 0. 0.]]\n",
            "Número randomico gerado pelo Python: 0.2839428080259243\n",
            "Número randomico gerado pelo Python: 0.5526278732338424\n",
            "Populacao:  [1315. 1315. 1315. 1315. 1315. 1315. 1315. 1315.]\n",
            "Criação de dois cromossomos vazios\n",
            ": [[0. 0. 0. 0. 0. 0. 0. 0. 0. 0.]\n",
            " [0. 0. 0. 0. 0. 0. 0. 0. 0. 0.]]\n",
            "Número randomico gerado pelo Python: 0.8758494258522639\n",
            "Número randomico gerado pelo Python: 0.30265929315734474\n",
            "Populacao:  [1315. 1315. 1315. 1315. 1315. 1315. 1315. 1315.]\n",
            "[1 0 1 1 1 0 0 0 0 0]\n"
          ],
          "name": "stdout"
        }
      ]
    }
  ]
}